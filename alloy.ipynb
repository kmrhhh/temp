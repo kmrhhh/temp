{
 "cells": [
  {
   "cell_type": "markdown",
   "id": "9d20aec0",
   "metadata": {},
   "source": [
    "$This\\ script\\ is\\ used\\ for\\ creating\\ the\\ primitive\\ alloy\\ structure.$\n",
    "\n",
    "$Its\\ function\\ can\\ be\\ easily\\ known.$\n",
    "\n",
    "$However,\\ if\\ you\\ want\\ to\\ use\\ it\\ to\\ creat\\ a\\ 3D\\ sphere\\ figure\\ of\\ the\\ alloy.$\n",
    "\n",
    "$There\\ are\\ some\\ things\\ you\\ need\\ to\\ first\\ take\\ care\\ of.$\n",
    "\n",
    "$Because\\ the\\ mayavi\\ is\\ used,\\ so\\ you\\ need\\ to\\ the\\ Python\\ version\\ is\\ lower\\ than\\ 3.8\\ and\\ VTK's\\ version\\ is\\ 8.1.2$\n",
    "\n",
    "$It's\\ recommended\\ to\\ follow\\ the\\ command\\ as\\ below:$\n",
    "```\n",
    "conda create -n myenv python=3.7\n",
    "conda activate myenv  \n",
    "pip install PyQt5 \n",
    "pip3 install vtk==8.1.2\n",
    "pip install mayavi\n",
    "```"
   ]
  },
  {
   "cell_type": "code",
   "execution_count": 1,
   "id": "b9aecca0",
   "metadata": {},
   "outputs": [],
   "source": [
    "import matplotlib.pyplot as plt\n",
    "import numpy as np\n",
    "from tqdm import tqdm\n",
    "from random import choice\n",
    "from mpl_toolkits.mplot3d import Axes3D\n",
    "from collections import Counter\n",
    "from mayavi import mlab"
   ]
  },
  {
   "cell_type": "code",
   "execution_count": 2,
   "id": "ce278f57",
   "metadata": {},
   "outputs": [],
   "source": [
    "supercell = [5,5,5]\n",
    "atoms_dc = {\n",
    "    \"Nb\": 1.46,             ##  atom radius (angstrom) \n",
    "    \"V\" : 1.34,             ##  atom radius (angstrom)\n",
    "    \"Ta\": 1.46,             ##  atom radius (angstrom)\n",
    "    \"Mo\": 1.39,             ##  atom radius (angstrom)\n",
    "    \"W\" : 1.39,             ##  atom radius (angstrom)\n",
    "}\n",
    "atomcolor_dc = {\n",
    "    \"Nb\": \"slateblue\",\n",
    "    \"V\" : \"red\",\n",
    "    \"Ta\": \"teal\",\n",
    "    \"Mo\": \"fuchsia\",\n",
    "    \"W\" : \"lawngreen\"\n",
    "}\n",
    "atommayavi = {\n",
    "    \"Nb\": (0,0.5,0.2),\n",
    "    \"V\" : (0,0.1,0.9),\n",
    "    \"Ta\": (0,0.3,0.7),\n",
    "    \"Mo\": (0.4,0.6,1),\n",
    "    \"W\" : (0.8,0.5,0.3)\n",
    "}"
   ]
  },
  {
   "cell_type": "code",
   "execution_count": 3,
   "id": "88545432",
   "metadata": {},
   "outputs": [],
   "source": [
    "def _random_mixing(inp1, inp2 , inp3, plotting_style, *args):\n",
    "    \"\"\"\n",
    "    Constructing the random multicomponent alloy in roughly equal proportions\n",
    "    inp1 = corresponding basis\n",
    "    inp2 = the unit cell enlargment\n",
    "    inp3 = cystal structure type\n",
    "    plotting _style = \"dot\" or \"sphere\"\n",
    "    *args = \"Na\",\"V\",...\n",
    "    \"\"\"\n",
    "    # Produce the Alloy Crystal\n",
    "    x = np.arange(0,inp2[0],1)\n",
    "    y = np.arange(0,inp2[1],1)\n",
    "    z = np.arange(0,inp2[2],1)\n",
    "    X,Y,Z = np.meshgrid(x,y,z)\n",
    "    diceinp = list(range(len(args)))\n",
    "    out = []\n",
    "    translation = np.column_stack((X.reshape(-1,1),Y.reshape(-1,1),Z.reshape(-1,1)))\n",
    "    for i in tqdm(range(translation.shape[0])):\n",
    "        trans = translation[i,:]\n",
    "        temp = list(map(lambda x:np.append(x+trans,[[choice(diceinp)]],axis=-1),inp1))\n",
    "        out.extend(temp)\n",
    "    outarray = np.concatenate(out,axis=0) \n",
    "    outarray = outarray[np.lexsort((outarray[:,-1],))]\n",
    "    np.savetxt(\"grid.csv\",outarray,delimiter = \",\", fmt = \"%.6f\")\n",
    "    \n",
    "    # Counting each atom's number\n",
    "    numberdc = dict(Counter(outarray[:,-1]))\n",
    "    temp = {}\n",
    "    for key in sorted(numberdc.keys()):\n",
    "        temp[key] = numberdc[key]\n",
    "    numberdc = temp\n",
    "    print(numberdc)\n",
    "\n",
    "    # Plotting The Alloy \n",
    "    r = lambda x : atoms_dc[args[int(x)]]        \n",
    "    color = lambda x : atomcolor_dc[args[int(x)]]\n",
    "    vecr = np.vectorize(r)\n",
    "    veccolor = np.vectorize(color)\n",
    "    if plotting_style == \"dot\":\n",
    "        fig = plt.figure()\n",
    "        ax = Axes3D(fig,)\n",
    "        print(\"This is based on Matplotlib 3D.\")\n",
    "        ax.scatter(outarray[:,0],outarray[:,1],outarray[:,2],\\\n",
    "                   s = vecr(outarray[:,3])*50, c = veccolor(outarray[:,3]) , marker=\"o\" )\n",
    "    elif plotting_style == \"sphere\":\n",
    "        print(\"This is based on Mayavi.\\nSo please ensure that import line is uncommented.\")\n",
    "        print(\"Please Use the Python below 3.8 and install the right version of VTK using pip install vtk==8.1.2\")\n",
    "        mlab.points3d(outarray[:,0],outarray[:,1],outarray[:,2],\\\n",
    "                      outarray[:,3]+1, colormap=\"cool\", scale_factor=.25 )\n",
    "        mlab.savefig(\"1.png\", size=(400,300), )\n",
    "   # np.where((outarray[:,3]==0),10*outarray[:,3],outarray[:,3]) \n",
    "    # Calculating the average lattice parameter\n",
    "    numerator = 0; denomiter = 0\n",
    "    if inp3 != \"hcp\":                  # here we make an approximation and maybe later it'll be amended\n",
    "        for key,value in numberdc.items():\n",
    "            numerator += atoms_dc[args[int(key)]]*value\n",
    "            denomiter += value \n",
    "        average_lattice_parameter = 2*numerator/denomiter\n",
    "\n",
    "    # Writting POSCAR file for ezvasp    \n",
    "    with open(\"POSCAR_{}_{}\".format(\"\".join(args),inp3),\"w\") as f:\n",
    "        f.write(\"\".join(args)+\"\\n\"+\"  1\\n\")\n",
    "        f.write(\"    {:12.12f}    {:12.12f}    {:12.12f}    \\n\".format(supercell[0]*average_lattice_parameter, 0, 0))\n",
    "        f.write(\"    {:12.12f}    {:12.12f}    {:12.12f}    \\n\".format(0, supercell[1]*average_lattice_parameter, 0))\n",
    "        f.write(\"    {:12.12f}    {:12.12f}    {:12.12f}    \\n\".format(0, 0, supercell[2]*average_lattice_parameter))\n",
    "        f.write(\"   {}\\n\".format(\"  \".join(list(map(lambda x:args[int(x)],numberdc.keys())))))\n",
    "        f.write(\"   {}\\n\".format(\"  \".join(list(map(str,numberdc.values())))))\n",
    "        f.write(\"Direct\\n\")\n",
    "        for i in range(outarray.shape[0]):\n",
    "            f.write(\"    {:12.12f}    {:12.12f}    {:12.12f}    \\n\".format(outarray[i,0]/supercell[0],outarray[i,1]/supercell[1],outarray[i,2]/supercell[2],) )\n",
    "    \n",
    "    # Writting rndstr.in for mcsqs\n",
    "    with open(\"rndstr.in_{}_{}\".format(\"\".join(args),inp3),\"w\") as f:\n",
    "        f.write(\"{:12.12f}    {:12.12f}    {:12.12f}    {:12d}    {:12d}    {:12d}\\n\".format(average_lattice_parameter, average_lattice_parameter, average_lattice_parameter, 90, 90, 90))\n",
    "        f.write(\"1    0    0\\n0    1    0\\n0    0    1\\n\")\n",
    "        for i in range(outarray.shape[0]):\n",
    "            f.write(\"{:12.5f}    {:12.5f}    {:12.5f}    {}\\n\".format( outarray[i,0],outarray[i,1],outarray[i,2],args[int(outarray[i,3])] ))"
   ]
  },
  {
   "cell_type": "markdown",
   "id": "d841a2c9",
   "metadata": {},
   "source": [
    "##### $Simple\\ Cubic\\ Structure$"
   ]
  },
  {
   "cell_type": "code",
   "execution_count": 4,
   "id": "72db2854",
   "metadata": {},
   "outputs": [],
   "source": [
    "scbasis = [np.array([[0,0,0]])]"
   ]
  },
  {
   "cell_type": "markdown",
   "id": "11bde5b1",
   "metadata": {},
   "source": [
    "##### $BCC\\ Structure$"
   ]
  },
  {
   "cell_type": "code",
   "execution_count": 5,
   "id": "6beb657a",
   "metadata": {},
   "outputs": [],
   "source": [
    "bccbasis = [np.array([[0,0,0]]), np.array([[0.5,0.5,0.5]])]"
   ]
  },
  {
   "cell_type": "markdown",
   "id": "ebef0ed1",
   "metadata": {},
   "source": [
    "##### $FCC\\ Structure$"
   ]
  },
  {
   "cell_type": "code",
   "execution_count": 6,
   "id": "beaf8aad",
   "metadata": {},
   "outputs": [],
   "source": [
    "fccbasis = [np.array([[0,0,0]]), np.array([[0.5,0,0.5]]), np.array([[0,0.5,0.5]])]"
   ]
  },
  {
   "cell_type": "markdown",
   "id": "ccf4bbb2",
   "metadata": {},
   "source": [
    "##### $HCP\\ Structure$ "
   ]
  },
  {
   "cell_type": "code",
   "execution_count": 7,
   "id": "e8da4e92",
   "metadata": {},
   "outputs": [
    {
     "name": "stderr",
     "output_type": "stream",
     "text": [
      "100%|████████████████████████████████████████████████████████████████████████████████████████████████████████████████████████████| 125/125 [00:00<00:00, 24149.61it/s]\n"
     ]
    },
    {
     "name": "stdout",
     "output_type": "stream",
     "text": [
      "{0.0: 88, 1.0: 81, 2.0: 81}\n",
      "This is based on Mayavi.\n",
      "So please ensure that import line is uncommented.\n",
      "Please Use the Python below 3.8 and install the right version of VTK using pip install vtk==8.1.2\n"
     ]
    }
   ],
   "source": [
    "_random_mixing(bccbasis, supercell, \"bcc\" ,\"sphere\",\"Nb\",\"V\",\"Ta\")"
   ]
  },
  {
   "cell_type": "code",
   "execution_count": null,
   "id": "12e346de",
   "metadata": {},
   "outputs": [],
   "source": []
  },
  {
   "cell_type": "code",
   "execution_count": null,
   "id": "a1802b26",
   "metadata": {},
   "outputs": [],
   "source": []
  }
 ],
 "metadata": {
  "kernelspec": {
   "display_name": "Python 3 (ipykernel)",
   "language": "python",
   "name": "python3"
  },
  "language_info": {
   "codemirror_mode": {
    "name": "ipython",
    "version": 3
   },
   "file_extension": ".py",
   "mimetype": "text/x-python",
   "name": "python",
   "nbconvert_exporter": "python",
   "pygments_lexer": "ipython3",
   "version": "3.7.10"
  }
 },
 "nbformat": 4,
 "nbformat_minor": 5
}
